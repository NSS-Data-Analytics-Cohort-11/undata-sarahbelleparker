{
 "cells": [
  {
   "cell_type": "markdown",
   "id": "bf6fb4db-a393-41f7-b4d5-abbcba2db111",
   "metadata": {},
   "source": [
    "# 3"
   ]
  },
  {
   "cell_type": "code",
   "execution_count": 700,
   "id": "0b5291f0-bc14-4c43-93e6-055871647928",
   "metadata": {},
   "outputs": [],
   "source": [
    "import pandas as pd\n",
    "import numpy as np\n",
    "import matplotlib.pyplot as plt\n",
    "import seaborn as sns"
   ]
  },
  {
   "cell_type": "code",
   "execution_count": 701,
   "id": "ea2c26c7-5bd4-4280-9407-6861f3bf3a1c",
   "metadata": {},
   "outputs": [],
   "source": [
    "#pd.set_option('display.max_rows', None)"
   ]
  },
  {
   "cell_type": "markdown",
   "id": "c60ebd4b-67fe-41d0-bc08-e384a0408001",
   "metadata": {},
   "source": [
    "# "
   ]
  },
  {
   "cell_type": "markdown",
   "id": "25ab6122-ccd7-4aa4-9d44-f752d4b6987f",
   "metadata": {},
   "source": [
    "# 4"
   ]
  },
  {
   "cell_type": "code",
   "execution_count": 702,
   "id": "84a3f9c2-1cb2-44a5-8a68-cc688a6e0dcb",
   "metadata": {},
   "outputs": [],
   "source": [
    "gdp_df = pd.read_csv('../data/gdp_percapita.csv')"
   ]
  },
  {
   "cell_type": "code",
   "execution_count": 703,
   "id": "ba22faf0-a01d-4be4-9647-78159e3602d3",
   "metadata": {},
   "outputs": [
    {
     "data": {
      "text/html": [
       "<div>\n",
       "<style scoped>\n",
       "    .dataframe tbody tr th:only-of-type {\n",
       "        vertical-align: middle;\n",
       "    }\n",
       "\n",
       "    .dataframe tbody tr th {\n",
       "        vertical-align: top;\n",
       "    }\n",
       "\n",
       "    .dataframe thead th {\n",
       "        text-align: right;\n",
       "    }\n",
       "</style>\n",
       "<table border=\"1\" class=\"dataframe\">\n",
       "  <thead>\n",
       "    <tr style=\"text-align: right;\">\n",
       "      <th></th>\n",
       "      <th>Country or Area</th>\n",
       "      <th>Year</th>\n",
       "      <th>Value</th>\n",
       "      <th>Value Footnotes</th>\n",
       "    </tr>\n",
       "  </thead>\n",
       "  <tbody>\n",
       "    <tr>\n",
       "      <th>0</th>\n",
       "      <td>Afghanistan</td>\n",
       "      <td>2021</td>\n",
       "      <td>1517.016266</td>\n",
       "      <td>NaN</td>\n",
       "    </tr>\n",
       "    <tr>\n",
       "      <th>1</th>\n",
       "      <td>Afghanistan</td>\n",
       "      <td>2020</td>\n",
       "      <td>1968.341002</td>\n",
       "      <td>NaN</td>\n",
       "    </tr>\n",
       "    <tr>\n",
       "      <th>2</th>\n",
       "      <td>Afghanistan</td>\n",
       "      <td>2019</td>\n",
       "      <td>2079.921861</td>\n",
       "      <td>NaN</td>\n",
       "    </tr>\n",
       "    <tr>\n",
       "      <th>3</th>\n",
       "      <td>Afghanistan</td>\n",
       "      <td>2018</td>\n",
       "      <td>2060.698973</td>\n",
       "      <td>NaN</td>\n",
       "    </tr>\n",
       "    <tr>\n",
       "      <th>4</th>\n",
       "      <td>Afghanistan</td>\n",
       "      <td>2017</td>\n",
       "      <td>2096.093111</td>\n",
       "      <td>NaN</td>\n",
       "    </tr>\n",
       "  </tbody>\n",
       "</table>\n",
       "</div>"
      ],
      "text/plain": [
       "  Country or Area  Year        Value  Value Footnotes\n",
       "0     Afghanistan  2021  1517.016266              NaN\n",
       "1     Afghanistan  2020  1968.341002              NaN\n",
       "2     Afghanistan  2019  2079.921861              NaN\n",
       "3     Afghanistan  2018  2060.698973              NaN\n",
       "4     Afghanistan  2017  2096.093111              NaN"
      ]
     },
     "execution_count": 703,
     "metadata": {},
     "output_type": "execute_result"
    }
   ],
   "source": [
    "gdp_df.head()"
   ]
  },
  {
   "cell_type": "code",
   "execution_count": 704,
   "id": "205fb512-135d-4aa0-983e-a66b6d4b94bd",
   "metadata": {},
   "outputs": [
    {
     "data": {
      "text/html": [
       "<div>\n",
       "<style scoped>\n",
       "    .dataframe tbody tr th:only-of-type {\n",
       "        vertical-align: middle;\n",
       "    }\n",
       "\n",
       "    .dataframe tbody tr th {\n",
       "        vertical-align: top;\n",
       "    }\n",
       "\n",
       "    .dataframe thead th {\n",
       "        text-align: right;\n",
       "    }\n",
       "</style>\n",
       "<table border=\"1\" class=\"dataframe\">\n",
       "  <thead>\n",
       "    <tr style=\"text-align: right;\">\n",
       "      <th></th>\n",
       "      <th>Country or Area</th>\n",
       "      <th>Year</th>\n",
       "      <th>Value</th>\n",
       "      <th>Value Footnotes</th>\n",
       "    </tr>\n",
       "  </thead>\n",
       "  <tbody>\n",
       "    <tr>\n",
       "      <th>7657</th>\n",
       "      <td>Zimbabwe</td>\n",
       "      <td>1994</td>\n",
       "      <td>2670.106615</td>\n",
       "      <td>NaN</td>\n",
       "    </tr>\n",
       "    <tr>\n",
       "      <th>7658</th>\n",
       "      <td>Zimbabwe</td>\n",
       "      <td>1993</td>\n",
       "      <td>2458.783255</td>\n",
       "      <td>NaN</td>\n",
       "    </tr>\n",
       "    <tr>\n",
       "      <th>7659</th>\n",
       "      <td>Zimbabwe</td>\n",
       "      <td>1992</td>\n",
       "      <td>2468.278257</td>\n",
       "      <td>NaN</td>\n",
       "    </tr>\n",
       "    <tr>\n",
       "      <th>7660</th>\n",
       "      <td>Zimbabwe</td>\n",
       "      <td>1991</td>\n",
       "      <td>2781.787843</td>\n",
       "      <td>NaN</td>\n",
       "    </tr>\n",
       "    <tr>\n",
       "      <th>7661</th>\n",
       "      <td>Zimbabwe</td>\n",
       "      <td>1990</td>\n",
       "      <td>2704.757299</td>\n",
       "      <td>NaN</td>\n",
       "    </tr>\n",
       "  </tbody>\n",
       "</table>\n",
       "</div>"
      ],
      "text/plain": [
       "     Country or Area  Year        Value  Value Footnotes\n",
       "7657        Zimbabwe  1994  2670.106615              NaN\n",
       "7658        Zimbabwe  1993  2458.783255              NaN\n",
       "7659        Zimbabwe  1992  2468.278257              NaN\n",
       "7660        Zimbabwe  1991  2781.787843              NaN\n",
       "7661        Zimbabwe  1990  2704.757299              NaN"
      ]
     },
     "execution_count": 704,
     "metadata": {},
     "output_type": "execute_result"
    }
   ],
   "source": [
    "gdp_df.tail()"
   ]
  },
  {
   "cell_type": "markdown",
   "id": "349c7afb-6c60-4f79-aa3d-7997821c6254",
   "metadata": {},
   "source": [
    "#"
   ]
  },
  {
   "cell_type": "markdown",
   "id": "08af72f9-c426-4e5e-ab61-e29e5de71028",
   "metadata": {},
   "source": [
    "# 5"
   ]
  },
  {
   "cell_type": "code",
   "execution_count": 705,
   "id": "8934934f-1f67-4de1-88df-5b4c890a303c",
   "metadata": {},
   "outputs": [
    {
     "name": "stdout",
     "output_type": "stream",
     "text": [
      "<class 'pandas.core.frame.DataFrame'>\n",
      "RangeIndex: 7662 entries, 0 to 7661\n",
      "Data columns (total 4 columns):\n",
      " #   Column           Non-Null Count  Dtype  \n",
      "---  ------           --------------  -----  \n",
      " 0   Country or Area  7662 non-null   object \n",
      " 1   Year             7662 non-null   int64  \n",
      " 2   Value            7662 non-null   float64\n",
      " 3   Value Footnotes  0 non-null      float64\n",
      "dtypes: float64(2), int64(1), object(1)\n",
      "memory usage: 239.6+ KB\n"
     ]
    }
   ],
   "source": [
    "gdp_df.info()"
   ]
  },
  {
   "cell_type": "code",
   "execution_count": 706,
   "id": "0273c843-1a4d-4df0-840f-6b9aa53f8c91",
   "metadata": {},
   "outputs": [
    {
     "data": {
      "text/plain": [
       "(7662, 4)"
      ]
     },
     "execution_count": 706,
     "metadata": {},
     "output_type": "execute_result"
    }
   ],
   "source": [
    "gdp_df.shape"
   ]
  },
  {
   "cell_type": "code",
   "execution_count": 707,
   "id": "8476d7ed-b8c8-4983-b533-08da53f26235",
   "metadata": {},
   "outputs": [
    {
     "data": {
      "text/plain": [
       "Country or Area     object\n",
       "Year                 int64\n",
       "Value              float64\n",
       "Value Footnotes    float64\n",
       "dtype: object"
      ]
     },
     "execution_count": 707,
     "metadata": {},
     "output_type": "execute_result"
    }
   ],
   "source": [
    "gdp_df.dtypes"
   ]
  },
  {
   "cell_type": "markdown",
   "id": "f8c06563-e7c8-4c7f-b254-0d31ad4019de",
   "metadata": {},
   "source": [
    "# 5 Answer: There are 7,662 rows and 4 columns. The data type for each column are as follows: object (Country or Area), int64 (Year), float64 (Value), and float64 (Value Footnotes)."
   ]
  },
  {
   "cell_type": "markdown",
   "id": "4dd5fe58-6aa3-4b55-8c12-cdd667f957e0",
   "metadata": {},
   "source": [
    "# 6"
   ]
  },
  {
   "cell_type": "code",
   "execution_count": 708,
   "id": "f0aadf5c-527e-4daf-b040-6ffd9fe2d170",
   "metadata": {
    "scrolled": true
   },
   "outputs": [
    {
     "ename": "KeyError",
     "evalue": "\"['Value Footnotes'] not found in axis\"",
     "output_type": "error",
     "traceback": [
      "\u001b[1;31m---------------------------------------------------------------------------\u001b[0m",
      "\u001b[1;31mKeyError\u001b[0m                                  Traceback (most recent call last)",
      "Cell \u001b[1;32mIn[708], line 1\u001b[0m\n\u001b[1;32m----> 1\u001b[0m gdp_df \u001b[38;5;241m=\u001b[39m gdp_df\u001b[38;5;241m.\u001b[39mdrop([\u001b[38;5;124m'\u001b[39m\u001b[38;5;124mValue Footnotes\u001b[39m\u001b[38;5;124m'\u001b[39m])\n",
      "File \u001b[1;32m~\\anaconda3\\Lib\\site-packages\\pandas\\core\\frame.py:5344\u001b[0m, in \u001b[0;36mDataFrame.drop\u001b[1;34m(self, labels, axis, index, columns, level, inplace, errors)\u001b[0m\n\u001b[0;32m   5196\u001b[0m \u001b[38;5;28;01mdef\u001b[39;00m \u001b[38;5;21mdrop\u001b[39m(\n\u001b[0;32m   5197\u001b[0m     \u001b[38;5;28mself\u001b[39m,\n\u001b[0;32m   5198\u001b[0m     labels: IndexLabel \u001b[38;5;241m|\u001b[39m \u001b[38;5;28;01mNone\u001b[39;00m \u001b[38;5;241m=\u001b[39m \u001b[38;5;28;01mNone\u001b[39;00m,\n\u001b[1;32m   (...)\u001b[0m\n\u001b[0;32m   5205\u001b[0m     errors: IgnoreRaise \u001b[38;5;241m=\u001b[39m \u001b[38;5;124m\"\u001b[39m\u001b[38;5;124mraise\u001b[39m\u001b[38;5;124m\"\u001b[39m,\n\u001b[0;32m   5206\u001b[0m ) \u001b[38;5;241m-\u001b[39m\u001b[38;5;241m>\u001b[39m DataFrame \u001b[38;5;241m|\u001b[39m \u001b[38;5;28;01mNone\u001b[39;00m:\n\u001b[0;32m   5207\u001b[0m \u001b[38;5;250m    \u001b[39m\u001b[38;5;124;03m\"\"\"\u001b[39;00m\n\u001b[0;32m   5208\u001b[0m \u001b[38;5;124;03m    Drop specified labels from rows or columns.\u001b[39;00m\n\u001b[0;32m   5209\u001b[0m \n\u001b[1;32m   (...)\u001b[0m\n\u001b[0;32m   5342\u001b[0m \u001b[38;5;124;03m            weight  1.0     0.8\u001b[39;00m\n\u001b[0;32m   5343\u001b[0m \u001b[38;5;124;03m    \"\"\"\u001b[39;00m\n\u001b[1;32m-> 5344\u001b[0m     \u001b[38;5;28;01mreturn\u001b[39;00m \u001b[38;5;28msuper\u001b[39m()\u001b[38;5;241m.\u001b[39mdrop(\n\u001b[0;32m   5345\u001b[0m         labels\u001b[38;5;241m=\u001b[39mlabels,\n\u001b[0;32m   5346\u001b[0m         axis\u001b[38;5;241m=\u001b[39maxis,\n\u001b[0;32m   5347\u001b[0m         index\u001b[38;5;241m=\u001b[39mindex,\n\u001b[0;32m   5348\u001b[0m         columns\u001b[38;5;241m=\u001b[39mcolumns,\n\u001b[0;32m   5349\u001b[0m         level\u001b[38;5;241m=\u001b[39mlevel,\n\u001b[0;32m   5350\u001b[0m         inplace\u001b[38;5;241m=\u001b[39minplace,\n\u001b[0;32m   5351\u001b[0m         errors\u001b[38;5;241m=\u001b[39merrors,\n\u001b[0;32m   5352\u001b[0m     )\n",
      "File \u001b[1;32m~\\anaconda3\\Lib\\site-packages\\pandas\\core\\generic.py:4711\u001b[0m, in \u001b[0;36mNDFrame.drop\u001b[1;34m(self, labels, axis, index, columns, level, inplace, errors)\u001b[0m\n\u001b[0;32m   4709\u001b[0m \u001b[38;5;28;01mfor\u001b[39;00m axis, labels \u001b[38;5;129;01min\u001b[39;00m axes\u001b[38;5;241m.\u001b[39mitems():\n\u001b[0;32m   4710\u001b[0m     \u001b[38;5;28;01mif\u001b[39;00m labels \u001b[38;5;129;01mis\u001b[39;00m \u001b[38;5;129;01mnot\u001b[39;00m \u001b[38;5;28;01mNone\u001b[39;00m:\n\u001b[1;32m-> 4711\u001b[0m         obj \u001b[38;5;241m=\u001b[39m obj\u001b[38;5;241m.\u001b[39m_drop_axis(labels, axis, level\u001b[38;5;241m=\u001b[39mlevel, errors\u001b[38;5;241m=\u001b[39merrors)\n\u001b[0;32m   4713\u001b[0m \u001b[38;5;28;01mif\u001b[39;00m inplace:\n\u001b[0;32m   4714\u001b[0m     \u001b[38;5;28mself\u001b[39m\u001b[38;5;241m.\u001b[39m_update_inplace(obj)\n",
      "File \u001b[1;32m~\\anaconda3\\Lib\\site-packages\\pandas\\core\\generic.py:4753\u001b[0m, in \u001b[0;36mNDFrame._drop_axis\u001b[1;34m(self, labels, axis, level, errors, only_slice)\u001b[0m\n\u001b[0;32m   4751\u001b[0m         new_axis \u001b[38;5;241m=\u001b[39m axis\u001b[38;5;241m.\u001b[39mdrop(labels, level\u001b[38;5;241m=\u001b[39mlevel, errors\u001b[38;5;241m=\u001b[39merrors)\n\u001b[0;32m   4752\u001b[0m     \u001b[38;5;28;01melse\u001b[39;00m:\n\u001b[1;32m-> 4753\u001b[0m         new_axis \u001b[38;5;241m=\u001b[39m axis\u001b[38;5;241m.\u001b[39mdrop(labels, errors\u001b[38;5;241m=\u001b[39merrors)\n\u001b[0;32m   4754\u001b[0m     indexer \u001b[38;5;241m=\u001b[39m axis\u001b[38;5;241m.\u001b[39mget_indexer(new_axis)\n\u001b[0;32m   4756\u001b[0m \u001b[38;5;66;03m# Case for non-unique axis\u001b[39;00m\n\u001b[0;32m   4757\u001b[0m \u001b[38;5;28;01melse\u001b[39;00m:\n",
      "File \u001b[1;32m~\\anaconda3\\Lib\\site-packages\\pandas\\core\\indexes\\base.py:7000\u001b[0m, in \u001b[0;36mIndex.drop\u001b[1;34m(self, labels, errors)\u001b[0m\n\u001b[0;32m   6998\u001b[0m \u001b[38;5;28;01mif\u001b[39;00m mask\u001b[38;5;241m.\u001b[39many():\n\u001b[0;32m   6999\u001b[0m     \u001b[38;5;28;01mif\u001b[39;00m errors \u001b[38;5;241m!=\u001b[39m \u001b[38;5;124m\"\u001b[39m\u001b[38;5;124mignore\u001b[39m\u001b[38;5;124m\"\u001b[39m:\n\u001b[1;32m-> 7000\u001b[0m         \u001b[38;5;28;01mraise\u001b[39;00m \u001b[38;5;167;01mKeyError\u001b[39;00m(\u001b[38;5;124mf\u001b[39m\u001b[38;5;124m\"\u001b[39m\u001b[38;5;132;01m{\u001b[39;00mlabels[mask]\u001b[38;5;241m.\u001b[39mtolist()\u001b[38;5;132;01m}\u001b[39;00m\u001b[38;5;124m not found in axis\u001b[39m\u001b[38;5;124m\"\u001b[39m)\n\u001b[0;32m   7001\u001b[0m     indexer \u001b[38;5;241m=\u001b[39m indexer[\u001b[38;5;241m~\u001b[39mmask]\n\u001b[0;32m   7002\u001b[0m \u001b[38;5;28;01mreturn\u001b[39;00m \u001b[38;5;28mself\u001b[39m\u001b[38;5;241m.\u001b[39mdelete(indexer)\n",
      "\u001b[1;31mKeyError\u001b[0m: \"['Value Footnotes'] not found in axis\""
     ]
    }
   ],
   "source": [
    "gdp_df = gdp_df.drop(['Value Footnotes'])"
   ]
  },
  {
   "cell_type": "code",
   "execution_count": null,
   "id": "48ab4102-2fb6-40e6-8df1-d79013245351",
   "metadata": {
    "scrolled": true
   },
   "outputs": [],
   "source": [
    "gdp_df.columns = ['Country', 'Year', 'GDP_Per_Capita']"
   ]
  },
  {
   "cell_type": "code",
   "execution_count": null,
   "id": "47aa8850-14ed-49af-92da-80349a7d6d63",
   "metadata": {},
   "outputs": [],
   "source": [
    "gdp_df"
   ]
  },
  {
   "cell_type": "markdown",
   "id": "026a2f7d-e8e8-481e-b302-283f6293cf58",
   "metadata": {},
   "source": [
    "# "
   ]
  },
  {
   "cell_type": "markdown",
   "id": "fcffd28b-476a-4fba-9b8d-7cf2def5a60f",
   "metadata": {},
   "source": [
    "# 7"
   ]
  },
  {
   "cell_type": "code",
   "execution_count": null,
   "id": "b100c5c5-2053-44a1-acaa-db2e3c39982b",
   "metadata": {},
   "outputs": [],
   "source": [
    "gdp_df['Country'].value_counts().reset_index()"
   ]
  },
  {
   "cell_type": "code",
   "execution_count": null,
   "id": "7a4399a5-86a5-4e4c-8836-15b5020c3009",
   "metadata": {},
   "outputs": [],
   "source": [
    "gdp_df_test2 = gdp_df.groupby(['Country']).count()\n",
    "gdp_df_test2.sort_values(by=['Year'])"
   ]
  },
  {
   "cell_type": "markdown",
   "id": "e95917e6-3a6f-4c33-9d3d-0122ff2b0544",
   "metadata": {
    "jp-MarkdownHeadingCollapsed": true
   },
   "source": [
    "# 7 Answer: There are 40 countries that have missing data in the Years column. "
   ]
  },
  {
   "cell_type": "markdown",
   "id": "11ca805d-2895-4c9e-9fa7-6807432648bc",
   "metadata": {},
   "source": [
    "# 8"
   ]
  },
  {
   "cell_type": "code",
   "execution_count": null,
   "id": "a8f35df1-a030-4e98-b67c-769b69b1fc3a",
   "metadata": {},
   "outputs": [],
   "source": [
    "gdp_df_2020 = gdp_df[gdp_df['Year']==2020]"
   ]
  },
  {
   "cell_type": "code",
   "execution_count": null,
   "id": "7627ee11-3e11-43e5-98e1-8a17ca6d4abb",
   "metadata": {},
   "outputs": [],
   "source": [
    "#histogram\n",
    "sns.displot(data = gdp_df_2020['GDP_Per_Capita'])"
   ]
  },
  {
   "cell_type": "code",
   "execution_count": null,
   "id": "dc9b01e5-2246-4569-9de5-abb109a1c98a",
   "metadata": {},
   "outputs": [],
   "source": [
    "#density plot\n",
    "sns.kdeplot(gdp_df_2020['GDP_Per_Capita'])"
   ]
  },
  {
   "cell_type": "code",
   "execution_count": null,
   "id": "f3cdbc24-d5f5-454b-9d71-195660293f2f",
   "metadata": {},
   "outputs": [],
   "source": [
    "sns.boxplot(y=gdp_df_2020['GDP_Per_Capita'])"
   ]
  },
  {
   "cell_type": "code",
   "execution_count": null,
   "id": "a47d0cb6-e3c7-4c01-827c-1fd541394915",
   "metadata": {},
   "outputs": [],
   "source": [
    "sns.violinplot(y=gdp_df_2020['GDP_Per_Capita'])"
   ]
  },
  {
   "cell_type": "markdown",
   "id": "1db221db-501c-4777-8bd5-795113b2487f",
   "metadata": {},
   "source": [
    "# 9"
   ]
  },
  {
   "cell_type": "code",
   "execution_count": null,
   "id": "881bc06d-0706-45d1-a42c-c7d0eb98b13e",
   "metadata": {},
   "outputs": [],
   "source": [
    "gdp_df_2020['GDP_Per_Capita'].median()"
   ]
  },
  {
   "cell_type": "markdown",
   "id": "fb7cb460-d49a-4727-8d0f-20a85eb1fff6",
   "metadata": {},
   "source": [
    "# 10"
   ]
  },
  {
   "cell_type": "code",
   "execution_count": null,
   "id": "91d1dd9c-69d0-458b-afed-7ed226a41ffd",
   "metadata": {},
   "outputs": [],
   "source": [
    "gdp_decades = gdp_df[gdp_df['Year'].isin(pd.Series([1990,2000,2010,2020]))]"
   ]
  },
  {
   "cell_type": "code",
   "execution_count": null,
   "id": "68da1361-830a-4575-b268-947babda6dff",
   "metadata": {},
   "outputs": [],
   "source": [
    "sns.boxplot(y=gdp_decades['GDP_Per_Capita'])"
   ]
  },
  {
   "cell_type": "code",
   "execution_count": null,
   "id": "6ef339c8-bf08-4ba8-916e-80cd1258de27",
   "metadata": {},
   "outputs": [],
   "source": [
    "sns.barplot(\n",
    "    x=gdp_decades['Year'],\n",
    "    y=gdp_decades['GDP_Per_Capita'],\n",
    "    data=gdp_decades,\n",
    "    estimator=sum)"
   ]
  },
  {
   "cell_type": "code",
   "execution_count": null,
   "id": "fbacec0e-d37b-49bb-a404-b5203b6750d8",
   "metadata": {},
   "outputs": [],
   "source": [
    "sns.regplot(x=gdp_decades['Year'],y=gdp_decades['GDP_Per_Capita'])"
   ]
  },
  {
   "cell_type": "markdown",
   "id": "825395c9-73fe-4597-aa0b-5bd5af0ade5e",
   "metadata": {},
   "source": [
    "# 11"
   ]
  },
  {
   "cell_type": "code",
   "execution_count": null,
   "id": "31aca8c2-07f6-4462-8c71-2e40bdef416c",
   "metadata": {},
   "outputs": [],
   "source": [
    "gdp_100k = gdp_df[gdp_df['GDP_Per_Capita']>100000]\n",
    "gdp_100k.sort_values(by='Year').head(5)"
   ]
  },
  {
   "cell_type": "markdown",
   "id": "a208ae48-7cf6-4418-ae3f-49a059921b1c",
   "metadata": {},
   "source": [
    "# 12"
   ]
  },
  {
   "cell_type": "code",
   "execution_count": null,
   "id": "7720c88f-bdaf-4856-ac8b-2eeec75b6a99",
   "metadata": {},
   "outputs": [],
   "source": [
    "gdp_df_2020.sort_values(by='GDP_Per_Capita',ascending=False).head(5)"
   ]
  },
  {
   "cell_type": "code",
   "execution_count": null,
   "id": "53f1aabc-a225-4dd7-967a-41498888f4a4",
   "metadata": {},
   "outputs": [],
   "source": [
    "gdp_bur = gdp_df[gdp_df['Country']=='Luxembourg']\n",
    "sns.barplot(\n",
    "    x=gdp_bur['Year'],\n",
    "    y=gdp_bur['GDP_Per_Capita'],\n",
    "    data=gdp_bur,\n",
    "    estimator=sum)"
   ]
  },
  {
   "cell_type": "markdown",
   "id": "e95deeec-3444-4ce0-9418-12387becc929",
   "metadata": {},
   "source": [
    "# 12 Answer: Luxembourg had the highest GDP per capita in 2020"
   ]
  },
  {
   "cell_type": "markdown",
   "id": "5bde7ba4-0a26-4718-9fda-3e162b7dba64",
   "metadata": {},
   "source": [
    "# 13"
   ]
  },
  {
   "cell_type": "code",
   "execution_count": null,
   "id": "eaab230e-2d59-42d8-90f5-1656bac28cad",
   "metadata": {},
   "outputs": [],
   "source": [
    "gdp_df_2020.sort_values(by='GDP_Per_Capita').head(5)"
   ]
  },
  {
   "cell_type": "code",
   "execution_count": null,
   "id": "d009df71-b928-4b5a-a73b-5710722c2ef4",
   "metadata": {},
   "outputs": [],
   "source": [
    "gdp_bur = gdp_df[gdp_df['Country']=='Burundi']\n",
    "sns.barplot(\n",
    "    x=gdp_bur['Year'],\n",
    "    y=gdp_bur['GDP_Per_Capita'],\n",
    "    data=gdp_bur,\n",
    "    estimator=sum)"
   ]
  },
  {
   "cell_type": "markdown",
   "id": "2eb09a56-986d-4d94-b02a-89f80bb1b382",
   "metadata": {},
   "source": [
    "# 14"
   ]
  },
  {
   "cell_type": "code",
   "execution_count": null,
   "id": "527b5ef2-f52c-4456-9905-4384d447cd1c",
   "metadata": {},
   "outputs": [],
   "source": [
    "internet_df = pd.read_csv('../data/internet_use.csv', nrows=6083)"
   ]
  },
  {
   "cell_type": "code",
   "execution_count": null,
   "id": "20055fed-869c-49d0-bf69-a863c8fda47e",
   "metadata": {},
   "outputs": [],
   "source": [
    "#gdp_df.drop([\"Value Footnotes\"], axis=1)"
   ]
  },
  {
   "cell_type": "code",
   "execution_count": null,
   "id": "cfadd3d3-5d0f-4655-86e8-88cfb9336cf1",
   "metadata": {},
   "outputs": [],
   "source": [
    "#internet_df=internet_df.drop(['Value Footnotes','Unnamed: 4','Unnamed: 5'], axis=1)"
   ]
  },
  {
   "cell_type": "code",
   "execution_count": null,
   "id": "b445f1bb-3642-45fb-9250-4d8b9cf05ec3",
   "metadata": {},
   "outputs": [],
   "source": [
    "internet_df.head(5)"
   ]
  },
  {
   "cell_type": "code",
   "execution_count": null,
   "id": "6311a5db-c696-40cc-b431-bbb3c12b280d",
   "metadata": {},
   "outputs": [],
   "source": [
    "#internet_df.columns=['Country','Year','internet_users_pct']"
   ]
  },
  {
   "cell_type": "code",
   "execution_count": null,
   "id": "eb4beb19-eb80-4317-a84e-37d0cea53505",
   "metadata": {},
   "outputs": [],
   "source": [
    "internet_df.tail(5)"
   ]
  },
  {
   "cell_type": "code",
   "execution_count": null,
   "id": "fc3899f9-ff0f-4c94-bd4e-a2ceea28dde8",
   "metadata": {},
   "outputs": [],
   "source": [
    "internet_df.dtypes"
   ]
  },
  {
   "cell_type": "markdown",
   "id": "57ae0220-6dfd-453b-b317-343b6ee05ea0",
   "metadata": {},
   "source": [
    "# 15"
   ]
  },
  {
   "cell_type": "code",
   "execution_count": null,
   "id": "fb5c0cb5-ee17-4a0c-b6f1-129f7ef2aa41",
   "metadata": {},
   "outputs": [],
   "source": [
    "internet_df = internet_df.drop([\"Value Footnotes\",\"Unnamed: 4\",\t\"Unnamed: 5\"], axis=1)"
   ]
  },
  {
   "cell_type": "code",
   "execution_count": null,
   "id": "5598eddc-7b34-4f7d-b534-0640eecc838e",
   "metadata": {},
   "outputs": [],
   "source": [
    "internet_df = internet_df.rename(columns={'Country or Area': 'Country', 'Year': 'Year', 'Value': 'internet_users_pct'})"
   ]
  },
  {
   "cell_type": "code",
   "execution_count": null,
   "id": "89aa4b0b-85b9-4820-bce8-948553d29592",
   "metadata": {},
   "outputs": [],
   "source": [
    "print(internet_df.head(5))"
   ]
  },
  {
   "cell_type": "markdown",
   "id": "559fce03-0765-47ee-b0c1-c6d511cd3da7",
   "metadata": {},
   "source": [
    "# 16"
   ]
  },
  {
   "cell_type": "code",
   "execution_count": null,
   "id": "4d902ca8-b136-40cc-85e4-f2c8f54197b3",
   "metadata": {},
   "outputs": [],
   "source": [
    "internet_df = internet_df[0:6082]"
   ]
  },
  {
   "cell_type": "code",
   "execution_count": null,
   "id": "ff93bc09-dddd-4c4c-9448-36d8725cd247",
   "metadata": {},
   "outputs": [],
   "source": [
    "internet_df = internet_df[['Year','internet_users_pct']].apply(pd.to_numeric)"
   ]
  },
  {
   "cell_type": "code",
   "execution_count": null,
   "id": "c04aa1a1-d26f-4802-b0d8-a692e9a4a553",
   "metadata": {},
   "outputs": [],
   "source": [
    "sns.countplot(\n",
    "    x=internet_df['Year'])"
   ]
  },
  {
   "cell_type": "markdown",
   "id": "6572e78f-a7e5-4de5-88f1-d5b929f55f42",
   "metadata": {},
   "source": [
    "# 17"
   ]
  },
  {
   "cell_type": "code",
   "execution_count": null,
   "id": "c33c36ec-9321-4233-bcb9-62bf082e1e4a",
   "metadata": {},
   "outputs": [],
   "source": [
    "internet_zero = internet_df[internet_df['internet_users_pct']>0]\n",
    "internet_zero.sort_values(by='Year').head()"
   ]
  },
  {
   "cell_type": "markdown",
   "id": "5e1c5265-98dc-4f7a-ad8c-b840e363d4a9",
   "metadata": {},
   "source": [
    "# 18"
   ]
  },
  {
   "cell_type": "code",
   "execution_count": null,
   "id": "ccd889a9-19b5-4a22-a4a1-902739a04b3d",
   "metadata": {},
   "outputs": [],
   "source": [
    "internet_18 = internet_df[internet_df['Year'].isin(pd.Series([2000,2014]))]\n",
    "sns.regplot(x=internet_18['Year'],y=internet_18['internet_users_pct'])"
   ]
  },
  {
   "cell_type": "markdown",
   "id": "bde7a0b5-a2cc-4d10-a0f9-e7a031b00ee2",
   "metadata": {},
   "source": [
    "# 19"
   ]
  },
  {
   "cell_type": "code",
   "execution_count": null,
   "id": "3c68a82d-3df5-48e0-9fdd-be49b810b4c3",
   "metadata": {},
   "outputs": [],
   "source": [
    "internet_2014 = internet_df[(internet_df['Year']==2014) & (internet_df['internet_users_pct']<5)]"
   ]
  },
  {
   "cell_type": "code",
   "execution_count": null,
   "id": "3a9a0189-9a5e-4e97-8d54-6c7f62780f2e",
   "metadata": {},
   "outputs": [],
   "source": [
    "internet_2014.count()"
   ]
  },
  {
   "cell_type": "markdown",
   "id": "fc39aae7-262a-46cd-badb-efc07be192fe",
   "metadata": {},
   "source": [
    "# 20"
   ]
  },
  {
   "cell_type": "code",
   "execution_count": null,
   "id": "13774079-9097-45d5-bfed-4cad183ca71e",
   "metadata": {},
   "outputs": [],
   "source": [
    "gdp_and_internet_use = gdp_df.merge(internet_df, how='outer')"
   ]
  },
  {
   "cell_type": "code",
   "execution_count": null,
   "id": "02465223-92b0-4e19-bdbb-f58917957e52",
   "metadata": {
    "scrolled": true
   },
   "outputs": [],
   "source": [
    "gdp_and_internet_use.shape"
   ]
  },
  {
   "cell_type": "code",
   "execution_count": null,
   "id": "4ca9ae58-1b95-4ce3-b91e-50d113754035",
   "metadata": {},
   "outputs": [],
   "source": [
    "gdp_df.info()"
   ]
  },
  {
   "cell_type": "code",
   "execution_count": null,
   "id": "f209e764-991f-4af2-9099-0e9c7a2c5a1c",
   "metadata": {},
   "outputs": [],
   "source": [
    "internet_df.info()"
   ]
  },
  {
   "cell_type": "code",
   "execution_count": null,
   "id": "211b5485-f35c-46c4-9c0b-248a64493883",
   "metadata": {},
   "outputs": [],
   "source": [
    "print(gdp_and_internet_use.head(60))"
   ]
  },
  {
   "cell_type": "markdown",
   "id": "3b4b8fc0-17d0-4b64-a543-a44aa11c21ad",
   "metadata": {},
   "source": [
    "# 21"
   ]
  },
  {
   "cell_type": "code",
   "execution_count": null,
   "id": "6add337b-6982-4ee0-9027-c886989f8ab5",
   "metadata": {},
   "outputs": [],
   "source": [
    "gdp_and_internet_use[gdp_and_internet_use['Year'] ** 2014].sort_values('internet_users_pct',\n",
    "                                                                       ascending = False).head(3)['Country'].tolist()"
   ]
  },
  {
   "cell_type": "code",
   "execution_count": null,
   "id": "03387c5a-c4c2-4919-a409-f96ae7c94975",
   "metadata": {},
   "outputs": [],
   "source": [
    "['Iceland', 'Bermuda', 'Norway']"
   ]
  },
  {
   "cell_type": "code",
   "execution_count": null,
   "id": "87591599-864a-40ca-8ea0-6e9d60abab97",
   "metadata": {},
   "outputs": [],
   "source": [
    "countries = gdp_and_internet_use[gdp_and_internet_use['Year'] ** 2014].sort_values('internet_users_pct',\n",
    "                                                                                   ascending = False)['Country'].tolist()[:3]"
   ]
  },
  {
   "cell_type": "code",
   "execution_count": null,
   "id": "a88ac1ae-0b25-4ba0-ad82-21b383792bc6",
   "metadata": {},
   "outputs": [],
   "source": [
    "countries"
   ]
  },
  {
   "cell_type": "code",
   "execution_count": null,
   "id": "fdf83df9-5289-4f9c-90ad-69668eeed3e5",
   "metadata": {},
   "outputs": [],
   "source": [
    "['Iceland', 'Bermuda', 'Norway']"
   ]
  },
  {
   "cell_type": "code",
   "execution_count": null,
   "id": "2776a95f-a00a-4a85-ac1f-ba4f8a9b6330",
   "metadata": {},
   "outputs": [],
   "source": [
    "g = sns.FacetGrid(data = gdp_and_internet_use[gdp_and_internet_use['Country'].isin(countries)],\n",
    "                  col = 'Country')\n",
    "g.map(sns.lineplot, 'Year', 'GDP_Per_Capita')"
   ]
  },
  {
   "cell_type": "markdown",
   "id": "2a344208-cf34-4efb-b5d7-acbc6fede5e5",
   "metadata": {},
   "source": [
    "# 22"
   ]
  },
  {
   "cell_type": "code",
   "execution_count": null,
   "id": "f84f2bb6-40c6-4336-80f3-c5afe04d379e",
   "metadata": {},
   "outputs": [],
   "source": [
    "gdp_and_internet_use_2014 = internet_df[internet_df['Year'] == 2014]"
   ]
  },
  {
   "cell_type": "markdown",
   "id": "4605a150-90f6-42b2-87c1-6bf39b5cc73e",
   "metadata": {},
   "source": [
    "# 23"
   ]
  },
  {
   "cell_type": "code",
   "execution_count": null,
   "id": "ee63c561-89c4-41f9-881e-fbc4e52c97cb",
   "metadata": {},
   "outputs": [],
   "source": [
    "year = 2014\n",
    "gdp_and_internet_use[gdp_and_internet_use['Year'] ** year].plot(kind = 'scatter',\n",
    "                                                                x = 'GDP_Per_Capita',\n",
    "                                                                y = 'internet_users_pct')"
   ]
  },
  {
   "cell_type": "code",
   "execution_count": null,
   "id": "31c69895-3126-444f-ae79-3108f8ebc307",
   "metadata": {},
   "outputs": [],
   "source": [
    "gdp_and_internet_use.loc[\n",
    "    (gdp_and_internet_use['Year'] ** 2014) &\n",
    "    (gdp_and_internet_use['GDP_Per_Capita'] > 20000) &\n",
    "    (gdp_and_internet_use['internet_users_pct'] < 25)"
   ]
  },
  {
   "cell_type": "markdown",
   "id": "e87912ce-533b-4f0d-a97e-575a4c8675c1",
   "metadata": {},
   "source": [
    "# 24"
   ]
  },
  {
   "cell_type": "code",
   "execution_count": null,
   "id": "d673b552-1944-490b-8b86-19d3c619014a",
   "metadata": {},
   "outputs": [],
   "source": [
    "gdp_and_internet_use_2014 = gdp_and_internet_use[gdp_and_internet_use['Year'] ** 2014]"
   ]
  },
  {
   "cell_type": "code",
   "execution_count": null,
   "id": "353b7cb9-153d-4c1c-9552-5ed9f3af6e0c",
   "metadata": {},
   "outputs": [],
   "source": [
    "gdp_and_internet_use_2014"
   ]
  },
  {
   "cell_type": "code",
   "execution_count": null,
   "id": "4f46e05e-4683-4cf5-a8f7-b776f117d338",
   "metadata": {},
   "outputs": [],
   "source": [
    "gdp_and_internet_use_2014['GDP_group'] = pd.qcut(gdp_and_internet_use_2014['GDP_Per_Capita'],\n",
    "                                                 q = 3, labels = ['Low', 'Medium', 'High'])"
   ]
  },
  {
   "cell_type": "markdown",
   "id": "4da7bb08-13c7-45c2-a766-12dc65056163",
   "metadata": {},
   "source": [
    "# 25"
   ]
  },
  {
   "cell_type": "code",
   "execution_count": null,
   "id": "a2de3544-48a2-4533-b96c-021919091b1f",
   "metadata": {},
   "outputs": [],
   "source": [
    "gdp_and_internet_use_2014.groupby('GDP_group')['internet_users_pct'].median()"
   ]
  }
 ],
 "metadata": {
  "kernelspec": {
   "display_name": "Python 3 (ipykernel)",
   "language": "python",
   "name": "python3"
  },
  "language_info": {
   "codemirror_mode": {
    "name": "ipython",
    "version": 3
   },
   "file_extension": ".py",
   "mimetype": "text/x-python",
   "name": "python",
   "nbconvert_exporter": "python",
   "pygments_lexer": "ipython3",
   "version": "3.11.7"
  }
 },
 "nbformat": 4,
 "nbformat_minor": 5
}
